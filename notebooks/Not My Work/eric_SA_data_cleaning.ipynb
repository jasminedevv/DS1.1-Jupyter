{
 "cells": [
  {
   "cell_type": "code",
   "execution_count": 1,
   "metadata": {},
   "outputs": [],
   "source": [
    "import glob, os\n",
    "import pandas as pd"
   ]
  },
  {
   "cell_type": "code",
   "execution_count": 2,
   "metadata": {},
   "outputs": [],
   "source": [
    "#looks like we can open file with spaces in name\n",
    "# df=pd.read_csv(\"datasets/FB/2016/Anon Week 1 Feedback - LA.csv\", index_col=0)"
   ]
  },
  {
   "cell_type": "code",
   "execution_count": 3,
   "metadata": {},
   "outputs": [],
   "source": [
    "relative_directory_path = \"./datasets/FB/2016/\"\n",
    "all_but_8_files = \"Week_*_data-*.csv\"\n",
    "the_dreaded_8_file = \"Week_8_*.csv\""
   ]
  },
  {
   "cell_type": "code",
   "execution_count": 4,
   "metadata": {},
   "outputs": [
    {
     "data": {
      "text/plain": [
       "[]"
      ]
     },
     "execution_count": 4,
     "metadata": {},
     "output_type": "execute_result"
    }
   ],
   "source": [
    "FILENAMES = glob.glob(relative_directory_path + all_but_8_files)\n",
    "FILENAMES"
   ]
  },
  {
   "cell_type": "markdown",
   "metadata": {},
   "source": [
    "import glob as glob\n",
    "import pandas as pd\n",
    "\n",
    "df = pd.read_csv(\"datasets/FB/2017/SV_2017.csv\", index_col=0)\n",
    "df"
   ]
  },
  {
   "cell_type": "markdown",
   "metadata": {},
   "source": [
    "# DATA CLEANING STEPS:\n",
    "\n",
    "- **Step 1**: Clean the 2016 data _EXCEPT_ for Week 8!\n",
    "- **Step 2**: Clean the 2016 Week 8 data\n",
    "- **Step 2.5**: Combine all the 2016 data (Weeks 1-8)\n",
    "- **Step 3**: Clean the 2017 data\n",
    "- **Step 3.5**: Combine 2016 and 2017 data"
   ]
  },
  {
   "cell_type": "code",
   "execution_count": 5,
   "metadata": {},
   "outputs": [],
   "source": [
    "# NOTE: Following three lines are irrelevant (performed above!)\n",
    "# path = './datasets/FB/2016/'                     # use your path\n",
    "# all_files = glob.glob(path + \"*.csv\")     # advisable to use os.path.join as this makes concatenation OS independent\n",
    "# all_files\n",
    "\n",
    "\n",
    "dfs_2016_no_8 = [pd.read_csv(f) for f in FILENAMES]\n",
    "# concatenated_df   = pd.concat(df_from_each_file, ignore_index=True)\n",
    "# doesn't create a list, nor does it append to one\n",
    "\n",
    "# a, b, c = [1, 1, 1], [2, 2, 2], [3, 3, 3]\n",
    "\n",
    "# garbage = (pd.DataFrame(a), pd.DataFrame(b), pd.DataFrame(c))"
   ]
  },
  {
   "cell_type": "code",
   "execution_count": 6,
   "metadata": {},
   "outputs": [],
   "source": [
    "# Grab unique columns from all 2016 DataFrames and save to set\n",
    "\n",
    "unique_cols = set()\n",
    "\n",
    "for df in dfs_2016_no_8:\n",
    "    unique_cols.update(df.columns)\n",
    "#     print(df.columns)\n",
    "    \n",
    "# Add new columns to all 2016 DataFrames\n",
    "unique_cols.update([\"Week\", \"Location\"])"
   ]
  },
  {
   "cell_type": "code",
   "execution_count": 7,
   "metadata": {},
   "outputs": [
    {
     "data": {
      "text/plain": [
       "{'Location', 'Week'}"
      ]
     },
     "execution_count": 7,
     "metadata": {},
     "output_type": "execute_result"
    }
   ],
   "source": [
    "unique_cols"
   ]
  },
  {
   "cell_type": "code",
   "execution_count": 8,
   "metadata": {},
   "outputs": [],
   "source": [
    "# dataframes = dict()\n",
    "\n",
    "# iterates through glob object of filenames and creates tables for each csv within a dictionary\n",
    "# for index, file in enumerate(FILENAMES):\n",
    "#     dataframes[index] = pd.read_csv(file)"
   ]
  },
  {
   "cell_type": "code",
   "execution_count": 9,
   "metadata": {},
   "outputs": [],
   "source": [
    "# dataframes[3]"
   ]
  },
  {
   "cell_type": "code",
   "execution_count": 10,
   "metadata": {},
   "outputs": [],
   "source": [
    "#opening multiple files and fitting them into one dDF\n",
    "\n",
    "\n",
    "#print statement\n",
    "for index, filename in enumerate(FILENAMES):\n",
    "    print(index, \": \", filename)\n",
    "#     dataframes[index] = pd.read_csv(file)"
   ]
  },
  {
   "cell_type": "code",
   "execution_count": 11,
   "metadata": {},
   "outputs": [
    {
     "ename": "NameError",
     "evalue": "name 'location' is not defined",
     "output_type": "error",
     "traceback": [
      "\u001b[0;31m---------------------------------------------------------------------------\u001b[0m",
      "\u001b[0;31mNameError\u001b[0m                                 Traceback (most recent call last)",
      "\u001b[0;32m<ipython-input-11-489b44a66786>\u001b[0m in \u001b[0;36m<module>\u001b[0;34m\u001b[0m\n\u001b[1;32m     10\u001b[0m     \u001b[0mos\u001b[0m\u001b[0;34m.\u001b[0m\u001b[0mrename\u001b[0m\u001b[0;34m(\u001b[0m\u001b[0mfile\u001b[0m\u001b[0;34m,\u001b[0m \u001b[0;34m\"{}_{}_data{}{}\"\u001b[0m\u001b[0;34m.\u001b[0m\u001b[0mformat\u001b[0m\u001b[0;34m(\u001b[0m\u001b[0mcomponents\u001b[0m\u001b[0;34m[\u001b[0m\u001b[0;36m1\u001b[0m\u001b[0;34m]\u001b[0m\u001b[0;34m,\u001b[0m \u001b[0mcomponents\u001b[0m\u001b[0;34m[\u001b[0m\u001b[0;36m2\u001b[0m\u001b[0;34m]\u001b[0m\u001b[0;34m,\u001b[0m \u001b[0mcomponents\u001b[0m\u001b[0;34m[\u001b[0m\u001b[0;36m4\u001b[0m\u001b[0;34m]\u001b[0m\u001b[0;34m,\u001b[0m \u001b[0mcomponents\u001b[0m\u001b[0;34m[\u001b[0m\u001b[0;36m5\u001b[0m\u001b[0;34m]\u001b[0m\u001b[0;34m)\u001b[0m\u001b[0;34m)\u001b[0m\u001b[0;34m\u001b[0m\u001b[0;34m\u001b[0m\u001b[0m\n\u001b[1;32m     11\u001b[0m \u001b[0;34m\u001b[0m\u001b[0m\n\u001b[0;32m---> 12\u001b[0;31m \u001b[0mlocation\u001b[0m\u001b[0;34m\u001b[0m\u001b[0;34m\u001b[0m\u001b[0m\n\u001b[0m",
      "\u001b[0;31mNameError\u001b[0m: name 'location' is not defined"
     ]
    }
   ],
   "source": [
    "# assigning all files to single file\n",
    "# DON'T RUN AGAIN:\n",
    "\n",
    "for file in FILENAMES:\n",
    "    # grab important data components from each filename\n",
    "    components = file.split(\" \")\n",
    "    week_num, location = components[2], components[5].split(\".\")[0]\n",
    "    \n",
    "    # assign new df field based on components\n",
    "    os.rename(file, \"{}_{}_data{}{}\".format(components[1], components[2], components[4], components[5]))\n",
    "    \n",
    "location"
   ]
  },
  {
   "cell_type": "code",
   "execution_count": 12,
   "metadata": {},
   "outputs": [
    {
     "data": {
      "text/plain": [
       "{'SV': 'Sunnyvale'}"
      ]
     },
     "execution_count": 12,
     "metadata": {},
     "output_type": "execute_result"
    }
   ],
   "source": [
    "# Create a dictionary to map over locations (initials) and convert them to locations (text)\n",
    "\n",
    "{\n",
    "    \"SV\": \"Sunnyvale\"\n",
    "}"
   ]
  },
  {
   "cell_type": "code",
   "execution_count": 13,
   "metadata": {},
   "outputs": [
    {
     "ename": "NameError",
     "evalue": "name 'file' is not defined",
     "output_type": "error",
     "traceback": [
      "\u001b[0;31m---------------------------------------------------------------------------\u001b[0m",
      "\u001b[0;31mNameError\u001b[0m                                 Traceback (most recent call last)",
      "\u001b[0;32m<ipython-input-13-046c168df224>\u001b[0m in \u001b[0;36m<module>\u001b[0;34m\u001b[0m\n\u001b[0;32m----> 1\u001b[0;31m \u001b[0mfile\u001b[0m\u001b[0;34m\u001b[0m\u001b[0;34m\u001b[0m\u001b[0m\n\u001b[0m",
      "\u001b[0;31mNameError\u001b[0m: name 'file' is not defined"
     ]
    }
   ],
   "source": [
    "file"
   ]
  },
  {
   "cell_type": "code",
   "execution_count": 14,
   "metadata": {},
   "outputs": [
    {
     "ename": "FileNotFoundError",
     "evalue": "[Errno 2] No such file or directory: './datasets/FB/2016/Week 8 Feedback (2016, incomplete) - results.csv' -> './datasets/FB/2016/Week_8_data-locs'",
     "output_type": "error",
     "traceback": [
      "\u001b[0;31m---------------------------------------------------------------------------\u001b[0m",
      "\u001b[0;31mFileNotFoundError\u001b[0m                         Traceback (most recent call last)",
      "\u001b[0;32m<ipython-input-14-04da870e63b9>\u001b[0m in \u001b[0;36m<module>\u001b[0;34m\u001b[0m\n\u001b[1;32m      4\u001b[0m \u001b[0;34m\u001b[0m\u001b[0m\n\u001b[1;32m      5\u001b[0m \u001b[0;34m\u001b[0m\u001b[0m\n\u001b[0;32m----> 6\u001b[0;31m \u001b[0mos\u001b[0m\u001b[0;34m.\u001b[0m\u001b[0mrename\u001b[0m\u001b[0;34m(\u001b[0m\u001b[0mrelative_directory_path\u001b[0m \u001b[0;34m+\u001b[0m \u001b[0mweek_8_file\u001b[0m\u001b[0;34m,\u001b[0m \u001b[0mrelative_directory_path\u001b[0m \u001b[0;34m+\u001b[0m \u001b[0;34m\"Week_8_data-locs\"\u001b[0m\u001b[0;34m)\u001b[0m\u001b[0;34m\u001b[0m\u001b[0;34m\u001b[0m\u001b[0m\n\u001b[0m",
      "\u001b[0;31mFileNotFoundError\u001b[0m: [Errno 2] No such file or directory: './datasets/FB/2016/Week 8 Feedback (2016, incomplete) - results.csv' -> './datasets/FB/2016/Week_8_data-locs'"
     ]
    }
   ],
   "source": [
    "# DON'T RUN AGAIN:\n",
    "# Changes Week 8 Outlier file name\n",
    "week_8_file = \"Week 8 Feedback (2016, incomplete) - results.csv\"\n",
    "\n",
    "\n",
    "os.rename(relative_directory_path + week_8_file, relative_directory_path + \"Week_8_data-locs\")"
   ]
  },
  {
   "cell_type": "code",
   "execution_count": 14,
   "metadata": {},
   "outputs": [],
   "source": [
    "#######\n",
    "## TODO:\n",
    "## Create DF that contains all possible header column names and append all dataframes to it\n",
    "## NOTE: Columns will mismatch and there will be many NaNs, but all data should be conserved\n",
    "#######"
   ]
  },
  {
   "cell_type": "code",
   "execution_count": 15,
   "metadata": {},
   "outputs": [],
   "source": [
    "#Save that DF to a .csv\n"
   ]
  },
  {
   "cell_type": "code",
   "execution_count": null,
   "metadata": {},
   "outputs": [],
   "source": []
  },
  {
   "cell_type": "code",
   "execution_count": null,
   "metadata": {},
   "outputs": [],
   "source": []
  }
 ],
 "metadata": {
  "kernelspec": {
   "display_name": "Python 3",
   "language": "python",
   "name": "python3"
  },
  "language_info": {
   "codemirror_mode": {
    "name": "ipython",
    "version": 3
   },
   "file_extension": ".py",
   "mimetype": "text/x-python",
   "name": "python",
   "nbconvert_exporter": "python",
   "pygments_lexer": "ipython3",
   "version": "3.7.1"
  }
 },
 "nbformat": 4,
 "nbformat_minor": 2
}
